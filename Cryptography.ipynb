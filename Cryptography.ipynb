{
 "cells": [
  {
   "cell_type": "code",
   "execution_count": 2,
   "metadata": {},
   "outputs": [],
   "source": [
    "#cryptography"
   ]
  },
  {
   "cell_type": "code",
   "execution_count": 1,
   "metadata": {},
   "outputs": [
    {
     "name": "stdout",
     "output_type": "stream",
     "text": [
      "Working 1a041d001d05\n",
      "Working 1a041d001d05\n",
      "Working vaishu\n"
     ]
    }
   ],
   "source": [
    "#Encryption and Dycrption\n",
    "import onetimepad\n",
    "from tkinter import*\n",
    "import tkinter\n",
    "root=Tk()\n",
    "root.title(\"Chryptograhy App\")\n",
    "def encryptMessage():\n",
    "    a=var.get()\n",
    "    ct=onetimepad.encrypt(a,\"letsupgrade\")\n",
    "    print(\"Working\",ct)\n",
    "    \n",
    "    e2.delete(0,END)\n",
    "    e2.insert(END,ct)\n",
    "def dycryptMessage():\n",
    "    a=var2.get()\n",
    "    ct=onetimepad.decrypt(a,\"letsupgrade\")\n",
    "    print(\"Working\",ct)\n",
    "    e2.delete(0,END)\n",
    "    e2.insert(END,ct)\n",
    "    \n",
    "    \n",
    "l1=Label(root,text=\"Plain Text\")\n",
    "l1.grid(row=0,column=0)\n",
    "l3=Label(root,text=\"Encrypted Text\")\n",
    "l3.grid(row=0,column=2)\n",
    "var=StringVar()\n",
    "var2=StringVar()\n",
    "e1=Entry(root,textvariable=var)\n",
    "e1.grid(row=0,column=1)\n",
    "e3=Entry(root,textvariable=var2)\n",
    "e3.grid(row=0,column=3)\n",
    "l2=Label(root,text=\"Encrypted Text\")\n",
    "l2.grid(row=1,column=0)\n",
    "l4=Label(root,text=\"Plain Text\")\n",
    "l4.grid(row=1,column=2)\n",
    "e2=Entry(root)\n",
    "e2.grid(row=1,column=1)\n",
    "e4=Entry(root)\n",
    "e4.grid(row=1,column=3)\n",
    "b1=Button(root,text=\"Encryption\",bg=\"blue\",fg=\"Red\",command=encryptMessage)\n",
    "b1.grid(row=2,column=1)\n",
    "b2=Button(root,text=\"Dycrption\",bg=\"blue\",fg=\"Red\",command=dycryptMessage)\n",
    "b2.grid(row=2,column=3)\n",
    "root.mainloop()"
   ]
  },
  {
   "cell_type": "code",
   "execution_count": null,
   "metadata": {},
   "outputs": [],
   "source": []
  }
 ],
 "metadata": {
  "kernelspec": {
   "display_name": "Python 3",
   "language": "python",
   "name": "python3"
  },
  "language_info": {
   "codemirror_mode": {
    "name": "ipython",
    "version": 3
   },
   "file_extension": ".py",
   "mimetype": "text/x-python",
   "name": "python",
   "nbconvert_exporter": "python",
   "pygments_lexer": "ipython3",
   "version": "3.8.3"
  }
 },
 "nbformat": 4,
 "nbformat_minor": 4
}
