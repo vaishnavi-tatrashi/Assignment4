{
 "cells": [
  {
   "cell_type": "markdown",
   "metadata": {},
   "source": [
    "# Guess movie name"
   ]
  },
  {
   "cell_type": "code",
   "execution_count": 1,
   "metadata": {},
   "outputs": [
    {
     "name": "stdout",
     "output_type": "stream",
     "text": [
      "Working\n"
     ]
    }
   ],
   "source": [
    "#Firebase connectivity\n",
    "import firebase_admin\n",
    "from firebase_admin import credentials\n",
    "\n",
    "cred = credentials.Certificate(\"my-project-31367-firebase-adminsdk-5ml3v-7eb75e8c2b.json\")\n",
    "firebase_admin.initialize_app(cred)\n",
    "print(\"Working\")\n"
   ]
  },
  {
   "cell_type": "code",
   "execution_count": 2,
   "metadata": {},
   "outputs": [],
   "source": [
    "from firebase_admin import firestore"
   ]
  },
  {
   "cell_type": "code",
   "execution_count": 3,
   "metadata": {},
   "outputs": [
    {
     "name": "stdout",
     "output_type": "stream",
     "text": [
      "done\n"
     ]
    }
   ],
   "source": [
    "db = firestore.client()\n",
    "doc_ref = db.collection(\"movies\").document(\"Bollywood\")\n",
    "\n",
    "data = {\"Name\":[\"war\",\"kgf\",\"3-idiot\",\"family-man\",\"dangal\"],\n",
    "       \"collection\":[400,500,200,100,600]}\n",
    "doc_ref.set(data)\n",
    "print(\"done\")"
   ]
  },
  {
   "cell_type": "code",
   "execution_count": 4,
   "metadata": {},
   "outputs": [],
   "source": [
    "db = firestore.client()\n",
    "\n",
    "docs = db.collection(\"movies\").stream()\n",
    "for d in docs:\n",
    "    #print(d.to_dict())\n",
    "    database = d.to_dict()"
   ]
  },
  {
   "cell_type": "code",
   "execution_count": 5,
   "metadata": {},
   "outputs": [],
   "source": [
    "d = database[\"Name\"]"
   ]
  },
  {
   "cell_type": "code",
   "execution_count": 6,
   "metadata": {},
   "outputs": [
    {
     "name": "stdout",
     "output_type": "stream",
     "text": [
      "Write your Name: vaishnavi\n",
      "Guess the character: \n",
      "You have 10 chance to get the movie name: \n",
      "Best of luck! vaishnavi\n",
      "_\n",
      "_\n",
      "_\n",
      "Enter your character: r\n",
      "_\n",
      "_\n",
      "r\n",
      "Enter your character: w\n",
      "w\n",
      "_\n",
      "r\n",
      "Enter your character: a\n",
      "w\n",
      "a\n",
      "r\n",
      "Congratulation you won!!!\n",
      "Movie Name was: war\n"
     ]
    }
   ],
   "source": [
    "import random\n",
    "movie = database[\"Name\"]\n",
    "player = input(\"Write your Name: \")\n",
    "print(\"Guess the character: \")\n",
    "print(\"You have 10 chance to get the movie name: \")\n",
    "print(\"Best of luck!\",player)\n",
    "\n",
    "\n",
    "count = 10\n",
    "\n",
    "geuss= \"\"\n",
    "\n",
    "word = random.choice(movie) #war\n",
    "\n",
    "while count>0:\n",
    "    fail = 0\n",
    "    for char in word:\n",
    "        if char in geuss:\n",
    "            print(char)\n",
    "        else:\n",
    "            print(\"_\")\n",
    "            fail+=1\n",
    "            \n",
    "            \n",
    "    if fail==0:\n",
    "        print(\"Congratulation you won!!!\")\n",
    "        print(\"Movie Name was:\",word)\n",
    "        break\n",
    "        \n",
    "    g = input(\"Enter your character: \")\n",
    "    geuss = geuss+g\n",
    "    \n",
    "    if g not in word:\n",
    "        count = count-1\n",
    "        print(\"Wrong Answer:(\")\n",
    "\n",
    "        print(\"You have \",count,\"more geusses\")"
   ]
  },
  {
   "cell_type": "code",
   "execution_count": null,
   "metadata": {},
   "outputs": [],
   "source": []
  }
 ],
 "metadata": {
  "kernelspec": {
   "display_name": "Python 3",
   "language": "python",
   "name": "python3"
  },
  "language_info": {
   "codemirror_mode": {
    "name": "ipython",
    "version": 3
   },
   "file_extension": ".py",
   "mimetype": "text/x-python",
   "name": "python",
   "nbconvert_exporter": "python",
   "pygments_lexer": "ipython3",
   "version": "3.8.3"
  }
 },
 "nbformat": 4,
 "nbformat_minor": 4
}
